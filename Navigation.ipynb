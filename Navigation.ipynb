{
 "cells": [
  {
   "cell_type": "markdown",
   "metadata": {},
   "source": [
    "# Navigation\n",
    "\n",
    "---\n",
    "\n",
    "In this notebook, you will learn how to use the Unity ML-Agents environment for the first project of the [Deep Reinforcement Learning Nanodegree](https://www.udacity.com/course/deep-reinforcement-learning-nanodegree--nd893).\n",
    "\n",
    "### 1. Start the Environment\n",
    "\n",
    "We begin by importing some necessary packages.  If the code cell below returns an error, please revisit the project instructions to double-check that you have installed [Unity ML-Agents](https://github.com/Unity-Technologies/ml-agents/blob/master/docs/Installation.md) and [NumPy](http://www.numpy.org/)."
   ]
  },
  {
   "cell_type": "code",
   "execution_count": 1,
   "metadata": {},
   "outputs": [],
   "source": [
    "from unityagents import UnityEnvironment\n",
    "import numpy as np"
   ]
  },
  {
   "cell_type": "markdown",
   "metadata": {},
   "source": [
    "Next, we will start the environment!  **_Before running the code cell below_**, change the `file_name` parameter to match the location of the Unity environment that you downloaded.\n",
    "\n",
    "- **Mac**: `\"path/to/Banana.app\"`\n",
    "- **Windows** (x86): `\"path/to/Banana_Windows_x86/Banana.exe\"`\n",
    "- **Windows** (x86_64): `\"path/to/Banana_Windows_x86_64/Banana.exe\"`\n",
    "- **Linux** (x86): `\"path/to/Banana_Linux/Banana.x86\"`\n",
    "- **Linux** (x86_64): `\"path/to/Banana_Linux/Banana.x86_64\"`\n",
    "- **Linux** (x86, headless): `\"path/to/Banana_Linux_NoVis/Banana.x86\"`\n",
    "- **Linux** (x86_64, headless): `\"path/to/Banana_Linux_NoVis/Banana.x86_64\"`\n",
    "\n",
    "For instance, if you are using a Mac, then you downloaded `Banana.app`.  If this file is in the same folder as the notebook, then the line below should appear as follows:\n",
    "```\n",
    "env = UnityEnvironment(file_name=\"Banana.app\")\n",
    "```"
   ]
  },
  {
   "cell_type": "code",
   "execution_count": 2,
   "metadata": {},
   "outputs": [
    {
     "name": "stderr",
     "output_type": "stream",
     "text": [
      "INFO:unityagents:\n",
      "'Academy' started successfully!\n",
      "Unity Academy name: Academy\n",
      "        Number of Brains: 1\n",
      "        Number of External Brains : 1\n",
      "        Lesson number : 0\n",
      "        Reset Parameters :\n",
      "\t\t\n",
      "Unity brain name: BananaBrain\n",
      "        Number of Visual Observations (per agent): 0\n",
      "        Vector Observation space type: continuous\n",
      "        Vector Observation space size (per agent): 37\n",
      "        Number of stacked Vector Observation: 1\n",
      "        Vector Action space type: discrete\n",
      "        Vector Action space size (per agent): 4\n",
      "        Vector Action descriptions: , , , \n"
     ]
    }
   ],
   "source": [
    "env = UnityEnvironment(file_name=\"./Banana_Linux/Banana.x86_64\")"
   ]
  },
  {
   "cell_type": "markdown",
   "metadata": {},
   "source": [
    "Environments contain **_brains_** which are responsible for deciding the actions of their associated agents. Here we check for the first brain available, and set it as the default brain we will be controlling from Python."
   ]
  },
  {
   "cell_type": "code",
   "execution_count": 3,
   "metadata": {},
   "outputs": [],
   "source": [
    "# get the default brain\n",
    "brain_name = env.brain_names[0]\n",
    "brain = env.brains[brain_name]"
   ]
  },
  {
   "cell_type": "markdown",
   "metadata": {},
   "source": [
    "### 2. Examine the State and Action Spaces\n",
    "\n",
    "The simulation contains a single agent that navigates a large environment.  At each time step, it has four actions at its disposal:\n",
    "- `0` - walk forward \n",
    "- `1` - walk backward\n",
    "- `2` - turn left\n",
    "- `3` - turn right\n",
    "\n",
    "The state space has `37` dimensions and contains the agent's velocity, along with ray-based perception of objects around agent's forward direction.  A reward of `+1` is provided for collecting a yellow banana, and a reward of `-1` is provided for collecting a blue banana. \n",
    "\n",
    "Run the code cell below to print some information about the environment."
   ]
  },
  {
   "cell_type": "code",
   "execution_count": 4,
   "metadata": {},
   "outputs": [
    {
     "name": "stdout",
     "output_type": "stream",
     "text": [
      "Number of agents: 1\n",
      "Number of actions: 4\n",
      "States look like: [1.         0.         0.         0.         0.84408134 0.\n",
      " 0.         1.         0.         0.0748472  0.         1.\n",
      " 0.         0.         0.25755    1.         0.         0.\n",
      " 0.         0.74177343 0.         1.         0.         0.\n",
      " 0.25854847 0.         0.         1.         0.         0.09355672\n",
      " 0.         1.         0.         0.         0.31969345 0.\n",
      " 0.        ]\n",
      "States have length: 37\n"
     ]
    }
   ],
   "source": [
    "# reset the environment\n",
    "env_info = env.reset(train_mode=True)[brain_name]\n",
    "\n",
    "# number of agents in the environment\n",
    "print('Number of agents:', len(env_info.agents))\n",
    "\n",
    "# number of actions\n",
    "action_size = brain.vector_action_space_size\n",
    "print('Number of actions:', action_size)\n",
    "\n",
    "# examine the state space \n",
    "state = env_info.vector_observations[0]\n",
    "print('States look like:', state)\n",
    "state_size = len(state)\n",
    "print('States have length:', state_size)"
   ]
  },
  {
   "cell_type": "markdown",
   "metadata": {},
   "source": [
    "### 3. Take Random Actions in the Environment\n",
    "\n",
    "In the next code cell, you will learn how to use the Python API to control the agent and receive feedback from the environment.\n",
    "\n",
    "Once this cell is executed, you will watch the agent's performance, if it selects an action (uniformly) at random with each time step.  A window should pop up that allows you to observe the agent, as it moves through the environment.  \n",
    "\n",
    "Of course, as part of the project, you'll have to change the code so that the agent is able to use its experience to gradually choose better actions when interacting with the environment!"
   ]
  },
  {
   "cell_type": "code",
   "execution_count": null,
   "metadata": {},
   "outputs": [],
   "source": []
  },
  {
   "cell_type": "code",
   "execution_count": 9,
   "metadata": {},
   "outputs": [
    {
     "name": "stdout",
     "output_type": "stream",
     "text": [
      "Score: 18.0\n"
     ]
    }
   ],
   "source": [
    "env_info = env.reset(train_mode=False)[brain_name] # reset the environment\n",
    "state = env_info.vector_observations[0]            # get the current state\n",
    "score = 0                                          # initialize the score\n",
    "while True:\n",
    "    action = agent.act(state, 0)       # select an action\n",
    "    env_info = env.step(action)[brain_name]        # send the action to the environment\n",
    "    next_state = env_info.vector_observations[0]   # get the next state\n",
    "    reward = env_info.rewards[0]                   # get the reward\n",
    "    done = env_info.local_done[0]                  # see if episode has finished\n",
    "    score += reward                                # update the score\n",
    "    state = next_state                             # roll over the state to next time step\n",
    "    if done:                                       # exit loop if episode finished\n",
    "        break\n",
    "    \n",
    "print(\"Score: {}\".format(score))"
   ]
  },
  {
   "cell_type": "markdown",
   "metadata": {},
   "source": [
    "When finished, you can close the environment."
   ]
  },
  {
   "cell_type": "code",
   "execution_count": 5,
   "metadata": {},
   "outputs": [],
   "source": [
    "# env.close()\n",
    "\n",
    "def training(num_episode = 2500, max_episode_len = 1000, eps_start = 1.0, eps_min = 0.01, decay_rate = 0.99):\n",
    "    scores = []\n",
    "    scores_window = deque(maxlen = 100)\n",
    "    eps = eps_start\n",
    "    for i in range(num_episode):\n",
    "        env_info = env.reset(train_mode=True)[brain_name]\n",
    "        state = env_info.vector_observations[0]\n",
    "        score = 0\n",
    "        for j in range(max_episode_len):\n",
    "            action = agent.act(state, eps)\n",
    "            env_info = env.step(action)[brain_name]        \n",
    "            next_state = env_info.vector_observations[0]\n",
    "            reward = env_info.rewards[0]                   # get the reward\n",
    "            done = env_info.local_done[0]\n",
    "            agent.step(state, action, reward, next_state, done)\n",
    "            score += reward                                # update the score\n",
    "            state = next_state\n",
    "            if done:\n",
    "                break\n",
    "        scores.append(score)\n",
    "        scores_window.append(score)\n",
    "        eps = eps*decay_rate\n",
    "        eps = max(eps, eps_min)\n",
    "        \n",
    "        if i % 100 == 0:\n",
    "            print('\\rEpisode {}\\tAverage Score: {:.2f}'.format(i, np.mean(scores_window)))\n",
    "        if np.mean(scores_window)>=13.0:\n",
    "            print('\\nEnvironment solved in {:d} episodes!\\tAverage Score: {:.2f}'.format(i-100, np.mean(scores_window)))\n",
    "            torch.save(agent.qnetwork_local.state_dict(), 'checkpoint_dueldqn.pth')\n",
    "            break\n",
    "    return scores"
   ]
  },
  {
   "cell_type": "markdown",
   "metadata": {},
   "source": [
    "### 4. It's Your Turn!\n",
    "\n",
    "Now it's your turn to train your own agent to solve the environment!  When training the environment, set `train_mode=True`, so that the line for resetting the environment looks like the following:\n",
    "```python\n",
    "env_info = env.reset(train_mode=True)[brain_name]\n",
    "```"
   ]
  },
  {
   "cell_type": "code",
   "execution_count": 6,
   "metadata": {},
   "outputs": [],
   "source": [
    "env_info = env.reset(train_mode=True)[brain_name] # reset the environment\n",
    "state = env_info.vector_observations[0]            # get the current state\n",
    "state_size = len(state)\n",
    "action_size = brain.vector_action_space_size"
   ]
  },
  {
   "cell_type": "code",
   "execution_count": 7,
   "metadata": {},
   "outputs": [],
   "source": [
    "import myagent_dueldqn as mag\n",
    "import random\n",
    "from collections import deque\n",
    "import torch\n",
    "import matplotlib.pyplot as plt\n",
    "%matplotlib inline\n",
    "\n"
   ]
  },
  {
   "cell_type": "code",
   "execution_count": 8,
   "metadata": {},
   "outputs": [],
   "source": [
    "agent = mag.Agent(state_size, action_size, seed = 0)\n"
   ]
  },
  {
   "cell_type": "code",
   "execution_count": 9,
   "metadata": {},
   "outputs": [],
   "source": [
    "# agent.qnetwork_local.load_state_dict(torch.load('checkpoint1_ddqn.pth'))"
   ]
  },
  {
   "cell_type": "code",
   "execution_count": 10,
   "metadata": {},
   "outputs": [
    {
     "name": "stdout",
     "output_type": "stream",
     "text": [
      "Episode 0\tAverage Score: -1.00\n",
      "Episode 100\tAverage Score: 0.91\n",
      "Episode 200\tAverage Score: 5.82\n",
      "Episode 300\tAverage Score: 10.62\n",
      "Episode 400\tAverage Score: 12.17\n",
      "\n",
      "Environment solved in 362 episodes!\tAverage Score: 13.03\n"
     ]
    }
   ],
   "source": [
    "scores = training()"
   ]
  },
  {
   "cell_type": "code",
   "execution_count": 11,
   "metadata": {},
   "outputs": [],
   "source": [
    "scores = np.array(scores)"
   ]
  },
  {
   "cell_type": "code",
   "execution_count": 12,
   "metadata": {},
   "outputs": [
    {
     "data": {
      "image/png": "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\n",
      "text/plain": [
       "<Figure size 432x288 with 1 Axes>"
      ]
     },
     "metadata": {
      "needs_background": "light"
     },
     "output_type": "display_data"
    }
   ],
   "source": [
    "fig = plt.figure()\n",
    "plt.plot(np.arange(len(scores)),scores)\n",
    "plt.ylabel('Score')\n",
    "plt.xlabel('Episode #')\n",
    "fig.savefig('nav_dueldqn.png')"
    "env.close()"
   ]
  },
  {
   "cell_type": "code",
   "execution_count": 37,
   "metadata": {},
   "outputs": [
    {
     "data": {
      "image/png": "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\n",
      "text/plain": [
       "<Figure size 432x288 with 1 Axes>"
      ]
     },
     "metadata": {
      "needs_background": "light"
     },
     "output_type": "display_data"
    }
   ],
   "source": [
    "fig = plt.figure()\n",
    "#ax = fig.add_subplot(111)\n",
    "plt.plot(np.arange(len(m)),m, color='blue')\n",
    "plt.ylabel('Score')\n",
    "plt.xlabel('Episode #')\n",
    "plt.show()\n",
    "fig.savefig('dueldqn_graph.png')"
   ]
  },
  {
   "cell_type": "code",
   "execution_count": 21,
   "metadata": {},
   "outputs": [],
   "source": [
    "\n",
    "\n",
    "swind = deque(maxlen = 100)\n",
    "lmean = []\n",
    "for i in range(len(l)):\n",
    "    swind.append(l[i])\n",
    "    if(len(swind) == 100):\n",
    "        lmean.append(np.mean(swind))\n",
    "        \n",
    "swind = deque(maxlen = 100)\n",
    "mmean = []\n",
    "for i in range(len(m)):\n",
    "    swind.append(m[i])\n",
    "    if(len(swind) == 100):\n",
    "        mmean.append(np.mean(swind))\n"
   ]
  },
  {
   "cell_type": "code",
   "execution_count": 38,
   "metadata": {},
   "outputs": [
    {
     "data": {
      "image/png": "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\n",
      "text/plain": [
       "<Figure size 432x288 with 1 Axes>"
      ]
     },
     "metadata": {
      "needs_background": "light"
     },
     "output_type": "display_data"
    }
   ],
   "source": [
    "fig2 = plt.figure()\n",
    "#ax = fig.add_subplot(111)\n",
    "plt.plot(np.arange(len(kmean)),kmean, color='red', label = 'dqn')\n",
    "plt.plot(np.arange(len(lmean)),lmean, color='green', label = 'ddqn')\n",
    "plt.plot(np.arange(len(mmean)),mmean, color='blue', label = 'duel dqn')\n",
    "plt.legend(loc='lower right')\n",
    "plt.ylabel('Score')\n",
    "plt.xlabel('Episode #')\n",
    "plt.show()\n",
    "fig2.savefig('Tricomparison.png')"
   ]
  },
  {
   "cell_type": "code",
   "execution_count": 9,
   "metadata": {},
   "outputs": [
    {
     "ename": "TypeError",
     "evalue": "file must have 'read' and 'readline' attributes",
     "output_type": "error",
     "traceback": [
      "\u001b[0;31m---------------------------------------------------------------------------\u001b[0m",
      "\u001b[0;31mTypeError\u001b[0m                                 Traceback (most recent call last)",
      "\u001b[0;32m<ipython-input-9-ac281fa2e50c>\u001b[0m in \u001b[0;36m<module>\u001b[0;34m\u001b[0m\n\u001b[0;32m----> 1\u001b[0;31m \u001b[0mtorch\u001b[0m\u001b[0;34m.\u001b[0m\u001b[0mload\u001b[0m\u001b[0;34m(\u001b[0m\u001b[0magent\u001b[0m\u001b[0;34m.\u001b[0m\u001b[0mqnetwork_local\u001b[0m\u001b[0;34m.\u001b[0m\u001b[0mstate_dict\u001b[0m\u001b[0;34m(\u001b[0m\u001b[0;34m)\u001b[0m\u001b[0;34m,\u001b[0m \u001b[0;34m'checkpoint.pth'\u001b[0m\u001b[0;34m)\u001b[0m\u001b[0;34m\u001b[0m\u001b[0;34m\u001b[0m\u001b[0m\n\u001b[0m",
      "\u001b[0;32m~/anaconda3/envs/drlnd/lib/python3.6/site-packages/torch/serialization.py\u001b[0m in \u001b[0;36mload\u001b[0;34m(f, map_location, pickle_module)\u001b[0m\n\u001b[1;32m    301\u001b[0m         \u001b[0mf\u001b[0m \u001b[0;34m=\u001b[0m \u001b[0mopen\u001b[0m\u001b[0;34m(\u001b[0m\u001b[0mf\u001b[0m\u001b[0;34m,\u001b[0m \u001b[0;34m'rb'\u001b[0m\u001b[0;34m)\u001b[0m\u001b[0;34m\u001b[0m\u001b[0;34m\u001b[0m\u001b[0m\n\u001b[1;32m    302\u001b[0m     \u001b[0;32mtry\u001b[0m\u001b[0;34m:\u001b[0m\u001b[0;34m\u001b[0m\u001b[0;34m\u001b[0m\u001b[0m\n\u001b[0;32m--> 303\u001b[0;31m         \u001b[0;32mreturn\u001b[0m \u001b[0m_load\u001b[0m\u001b[0;34m(\u001b[0m\u001b[0mf\u001b[0m\u001b[0;34m,\u001b[0m \u001b[0mmap_location\u001b[0m\u001b[0;34m,\u001b[0m \u001b[0mpickle_module\u001b[0m\u001b[0;34m)\u001b[0m\u001b[0;34m\u001b[0m\u001b[0;34m\u001b[0m\u001b[0m\n\u001b[0m\u001b[1;32m    304\u001b[0m     \u001b[0;32mfinally\u001b[0m\u001b[0;34m:\u001b[0m\u001b[0;34m\u001b[0m\u001b[0;34m\u001b[0m\u001b[0m\n\u001b[1;32m    305\u001b[0m         \u001b[0;32mif\u001b[0m \u001b[0mnew_fd\u001b[0m\u001b[0;34m:\u001b[0m\u001b[0;34m\u001b[0m\u001b[0;34m\u001b[0m\u001b[0m\n",
      "\u001b[0;32m~/anaconda3/envs/drlnd/lib/python3.6/site-packages/torch/serialization.py\u001b[0m in \u001b[0;36m_load\u001b[0;34m(f, map_location, pickle_module)\u001b[0m\n\u001b[1;32m    457\u001b[0m             \u001b[0mf\u001b[0m\u001b[0;34m.\u001b[0m\u001b[0mseek\u001b[0m\u001b[0;34m(\u001b[0m\u001b[0;36m0\u001b[0m\u001b[0;34m)\u001b[0m\u001b[0;34m\u001b[0m\u001b[0;34m\u001b[0m\u001b[0m\n\u001b[1;32m    458\u001b[0m \u001b[0;34m\u001b[0m\u001b[0m\n\u001b[0;32m--> 459\u001b[0;31m     \u001b[0mmagic_number\u001b[0m \u001b[0;34m=\u001b[0m \u001b[0mpickle_module\u001b[0m\u001b[0;34m.\u001b[0m\u001b[0mload\u001b[0m\u001b[0;34m(\u001b[0m\u001b[0mf\u001b[0m\u001b[0;34m)\u001b[0m\u001b[0;34m\u001b[0m\u001b[0;34m\u001b[0m\u001b[0m\n\u001b[0m\u001b[1;32m    460\u001b[0m     \u001b[0;32mif\u001b[0m \u001b[0mmagic_number\u001b[0m \u001b[0;34m!=\u001b[0m \u001b[0mMAGIC_NUMBER\u001b[0m\u001b[0;34m:\u001b[0m\u001b[0;34m\u001b[0m\u001b[0;34m\u001b[0m\u001b[0m\n\u001b[1;32m    461\u001b[0m         \u001b[0;32mraise\u001b[0m \u001b[0mRuntimeError\u001b[0m\u001b[0;34m(\u001b[0m\u001b[0;34m\"Invalid magic number; corrupt file?\"\u001b[0m\u001b[0;34m)\u001b[0m\u001b[0;34m\u001b[0m\u001b[0;34m\u001b[0m\u001b[0m\n",
      "\u001b[0;31mTypeError\u001b[0m: file must have 'read' and 'readline' attributes"
     ]
    }
   ],
   "source": [
    "torch.save()\n",
    "torch.load(agent.qnetwork_local.state_dict(), 'checkpoint.pth')"
   ]
  },
  {
   "cell_type": "code",
   "execution_count": 12,
   "metadata": {},
   "outputs": [],
   "source": [
    "agent.qnetwork_local.load_state_dict(torch.load('checkpoint.pth'))"
   ]
  },
  {
   "cell_type": "code",
   "execution_count": 1,
   "metadata": {},
   "outputs": [],
   "source": [
    "import numpy as np"
   ]
  },
  {
   "cell_type": "code",
   "execution_count": 2,
   "metadata": {},
   "outputs": [
    {
     "data": {
      "text/plain": [
       "array([[1, 2, 3],\n",
       "       [3, 4, 5]])"
      ]
     },
     "execution_count": 2,
     "metadata": {},
     "output_type": "execute_result"
    }
   ],
   "source": [
    "l = []\n",
    "l.append([1,2,3])\n",
    "l.append([3,4,5])\n",
    "\n",
    "l = np.array(l)\n",
    "l"
   ]
  },
  {
   "cell_type": "code",
   "execution_count": 3,
   "metadata": {},
   "outputs": [],
   "source": [
    "np.save('s', l)"
   ]
  },
  {
   "cell_type": "code",
   "execution_count": 6,
   "metadata": {},
   "outputs": [
    {
     "data": {
      "text/plain": [
       "array([[1, 2, 3],\n",
       "       [3, 4, 5]])"
      ]
     },
     "execution_count": 6,
     "metadata": {},
     "output_type": "execute_result"
    }
   ],
   "source": [
    "k = np.load('./s.npy')\n",
    "k"
   ]
  },
  {
   "cell_type": "code",
   "execution_count": null,
   "metadata": {},
   "outputs": [],
   "source": []
  }
 ],
 "metadata": {
  "kernelspec": {
   "display_name": "drlnd",
   "language": "python",
   "name": "drlnd"
  },
  "language_info": {
   "codemirror_mode": {
    "name": "ipython",
    "version": 3
   },
   "file_extension": ".py",
   "mimetype": "text/x-python",
   "name": "python",
   "nbconvert_exporter": "python",
   "pygments_lexer": "ipython3",
   "version": "3.6.7"
  }
 },
 "nbformat": 4,
 "nbformat_minor": 2
}
